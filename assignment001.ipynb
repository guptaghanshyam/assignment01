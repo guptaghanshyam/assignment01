{
 "cells": [
  {
   "cell_type": "code",
   "execution_count": null,
   "metadata": {},
   "outputs": [],
   "source": [
    "\n"
   ]
  },
  {
   "attachments": {},
   "cell_type": "markdown",
   "metadata": {},
   "source": [
    "Q1. Explain with an example each when to use a for loop and a while loop.\n"
   ]
  },
  {
   "cell_type": "code",
   "execution_count": 3,
   "metadata": {},
   "outputs": [
    {
     "name": "stdout",
     "output_type": "stream",
     "text": [
      "1\n",
      "2\n",
      "3\n",
      "4\n",
      "5\n"
     ]
    }
   ],
   "source": [
    "for i in range(1,6):\n",
    "    print(i)"
   ]
  },
  {
   "cell_type": "code",
   "execution_count": 4,
   "metadata": {},
   "outputs": [
    {
     "name": "stdout",
     "output_type": "stream",
     "text": [
      "1\n",
      "2\n",
      "3\n",
      "4\n",
      "5\n"
     ]
    }
   ],
   "source": [
    "i=1\n",
    "while i<6:\n",
    "    print(i)\n",
    "    i=i+1"
   ]
  },
  {
   "attachments": {},
   "cell_type": "markdown",
   "metadata": {},
   "source": [
    "Q2.Write a python program to print the sum and product of the first 10 natural numbers using for\n",
    "and while loop."
   ]
  },
  {
   "cell_type": "code",
   "execution_count": 5,
   "metadata": {},
   "outputs": [
    {
     "name": "stdout",
     "output_type": "stream",
     "text": [
      "the sum of first 10 natural no: 55\n",
      "the product of first 10 natural no: 3628800\n"
     ]
    }
   ],
   "source": [
    "num_list=range(1,11)\n",
    "sum=0\n",
    "for num in num_list:\n",
    "    sum=sum+num\n",
    "product=1\n",
    "for num in num_list:\n",
    "    product=product*num\n",
    "print(\"the sum of first 10 natural no:\",sum)\n",
    "print(\"the product of first 10 natural no:\",product)"
   ]
  },
  {
   "cell_type": "code",
   "execution_count": 11,
   "metadata": {},
   "outputs": [
    {
     "name": "stdout",
     "output_type": "stream",
     "text": [
      "the sum of first 10 natural no: 55\n",
      "the product of first 10 natural no: 3628800\n"
     ]
    }
   ],
   "source": [
    "i=1\n",
    "sum=0\n",
    "product=1\n",
    "while i <=10:\n",
    "    sum=sum+i\n",
    "    product=product*i\n",
    "    i=i+1\n",
    "print(\"the sum of first 10 natural no:\",sum)\n",
    "print(\"the product of first 10 natural no:\",product)"
   ]
  },
  {
   "attachments": {},
   "cell_type": "markdown",
   "metadata": {},
   "source": [
    "Create a python program to compute the electricity bill for a household.\n",
    "The per-unit charges in rupees are as follows: For the first 100 units, the user will be charged Rs. 4.5 per\n",
    "unit, for the next 100 units, the user will be charged Rs. 6 per unit, and for the next 100 units, the user will\n",
    "be charged Rs. 10 per unit, After 300 units and above the user will be charged Rs. 20 per unit.\n",
    "You are required to take the units of electricity consumed in a month from the user as input.\n",
    "Your program must pass this test case: when the unit of electricity consumed by the user in a month is\n",
    "310, the total electricity bill should be 2250."
   ]
  },
  {
   "cell_type": "code",
   "execution_count": 37,
   "metadata": {},
   "outputs": [
    {
     "name": "stdout",
     "output_type": "stream",
     "text": [
      "total electricity bill will be 2250.0\n"
     ]
    }
   ],
   "source": [
    "n=int(input(\"enter the number of unit consumed in the month:\"))\n",
    "total_bill=0\n",
    "\n",
    "if n<=100:\n",
    "    total_bill=n*4.5\n",
    "elif n<=200:\n",
    "    total_bill=100*4.5+(n-100)*6\n",
    "elif n<=300:\n",
    "    total_bill=100*4.5+100*6+(n-200)*10\n",
    "else:\n",
    "    total_bill=100*4.5+100*6+100*10+(n-300)*20\n",
    "print(\"total electricity bill will be\",total_bill)"
   ]
  },
  {
   "attachments": {},
   "cell_type": "markdown",
   "metadata": {},
   "source": [
    "Q4.Create a list of numbers from 1 to 100. Use for loop and while loop to calculate the cube of each\n",
    "number and if the cube of that number is divisible by 4 or 5 then append that number in a list and print\n",
    "that list."
   ]
  },
  {
   "cell_type": "code",
   "execution_count": 38,
   "metadata": {},
   "outputs": [
    {
     "name": "stdout",
     "output_type": "stream",
     "text": [
      " the cube of that number is divisible by 4 or 5 : [2, 4, 5, 6, 8, 10, 12, 14, 15, 16, 18, 20, 22, 24, 25, 26, 28, 30, 32, 34, 35, 36, 38, 40, 42, 44, 45, 46, 48, 50, 52, 54, 55, 56, 58, 60, 62, 64, 65, 66, 68, 70, 72, 74, 75, 76, 78, 80, 82, 84, 85, 86, 88, 90, 92, 94, 95, 96, 98, 100]\n"
     ]
    }
   ],
   "source": [
    "cubelist=[]\n",
    "for i in range(1,101):\n",
    "    cube=i**3\n",
    "    if cube % 4==0 or cube % 5==0:\n",
    "        cubelist.append(i)\n",
    "print(\" the cube of that number is divisible by 4 or 5 :\",cubelist)       "
   ]
  },
  {
   "cell_type": "code",
   "execution_count": 23,
   "metadata": {},
   "outputs": [
    {
     "name": "stdout",
     "output_type": "stream",
     "text": [
      " the cube of that number is divisible by 4 or 5 : [2, 4, 5, 6, 8, 10, 12, 14, 15, 16, 18, 20, 22, 24, 25, 26, 28, 30, 32, 34, 35, 36, 38, 40, 42, 44, 45, 46, 48, 50, 52, 54, 55, 56, 58, 60, 62, 64, 65, 66, 68, 70, 72, 74, 75, 76, 78, 80, 82, 84, 85, 86, 88, 90, 92, 94, 95, 96, 98, 100]\n"
     ]
    }
   ],
   "source": [
    "cubelist=[]\n",
    "i=1\n",
    "while i<=100:\n",
    "    cube=i**3\n",
    "    if cube % 4==0 or cube % 5==0:\n",
    "        cubelist.append(i)\n",
    "    i=i+1\n",
    "print(\" the cube of that number is divisible by 4 or 5 :\",cubelist)       "
   ]
  },
  {
   "attachments": {},
   "cell_type": "markdown",
   "metadata": {},
   "source": [
    "Q5. Write a program to filter count vowels in the below-given string.\n",
    "string = \"I want to become a data scientist\""
   ]
  },
  {
   "cell_type": "code",
   "execution_count": 34,
   "metadata": {},
   "outputs": [
    {
     "name": "stdout",
     "output_type": "stream",
     "text": [
      "the number of vowels in the string is : 11\n"
     ]
    }
   ],
   "source": [
    "string=\"I want to become a data scientist\"\n",
    "def count_vowels(v):\n",
    "    vowels=['a','e','i','o','u']\n",
    "    count=0\n",
    "    for alphabet in v:\n",
    "        if alphabet in vowels:\n",
    "         \n",
    "         count+=1\n",
    "    return count\n",
    "num_vowels=count_vowels(string)\n",
    "print(\"the number of vowels in the string is :\",num_vowels)"
   ]
  },
  {
   "attachments": {},
   "cell_type": "markdown",
   "metadata": {},
   "source": [
    "even if we convert the string in lower case the answer will be diffrent \n",
    "doint just for confermation pls dont cut the marks"
   ]
  },
  {
   "cell_type": "code",
   "execution_count": 36,
   "metadata": {},
   "outputs": [
    {
     "name": "stdout",
     "output_type": "stream",
     "text": [
      "the number of vowels in the string is : 12\n"
     ]
    }
   ],
   "source": [
    "string=\"I want to become a data scientist\"\n",
    "def count_vowels(v):\n",
    "    vowels=['a','e','i','o','u']\n",
    "    count=0\n",
    "    for alphabet in v:\n",
    "        if alphabet.lower() in vowels:\n",
    "         \n",
    "         count+=1\n",
    "    return count\n",
    "num_vowels=count_vowels(string)\n",
    "print(\"the number of vowels in the string is :\",num_vowels)"
   ]
  },
  {
   "cell_type": "code",
   "execution_count": null,
   "metadata": {},
   "outputs": [],
   "source": []
  }
 ],
 "metadata": {
  "kernelspec": {
   "display_name": "base",
   "language": "python",
   "name": "python3"
  },
  "language_info": {
   "codemirror_mode": {
    "name": "ipython",
    "version": 3
   },
   "file_extension": ".py",
   "mimetype": "text/x-python",
   "name": "python",
   "nbconvert_exporter": "python",
   "pygments_lexer": "ipython3",
   "version": "3.10.9"
  },
  "orig_nbformat": 4
 },
 "nbformat": 4,
 "nbformat_minor": 2
}
